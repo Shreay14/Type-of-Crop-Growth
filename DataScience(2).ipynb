{
  "nbformat": 4,
  "nbformat_minor": 0,
  "metadata": {
    "colab": {
      "name": "DataScience.ipynb",
      "provenance": []
    },
    "kernelspec": {
      "name": "python3",
      "display_name": "Python 3"
    },
    "language_info": {
      "name": "python"
    }
  },
  "cells": [
    {
      "cell_type": "code",
      "metadata": {
        "id": "nawdsvTk28mq"
      },
      "source": [
        "import numpy as np\n",
        "import pandas as pd\n",
        "import matplotlib\n",
        "import matplotlib.pyplot as plt\n",
        "import seaborn as sns\n",
        "from sklearn.model_selection import train_test_split, GridSearchCV\n",
        "from sklearn.metrics import classification_report, confusion_matrix, accuracy_score,plot_roc_curve\n",
        "from sklearn.ensemble import RandomForestClassifier\n",
        "from sklearn.preprocessing import StandardScaler, LabelEncoder\n",
        "from sklearn.svm import SVC\n",
        "from sklearn.neighbors import KNeighborsClassifier\n",
        "import math "
      ],
      "execution_count": null,
      "outputs": []
    },
    {
      "cell_type": "code",
      "metadata": {
        "id": "ZjR6KPFBn4oS",
        "colab": {
          "base_uri": "https://localhost:8080/",
          "height": 459
        },
        "outputId": "66f14558-e64f-4f8d-a1af-8e32064338dc"
      },
      "source": [
        "df = pd.read_csv(\"Sheet 1-Crop_recommendation-1.csv\", sep=',')\n",
        "df.info()\n",
        "df.head()"
      ],
      "execution_count": null,
      "outputs": [
        {
          "output_type": "stream",
          "text": [
            "<class 'pandas.core.frame.DataFrame'>\n",
            "RangeIndex: 200 entries, 0 to 199\n",
            "Data columns (total 8 columns):\n",
            " #   Column       Non-Null Count  Dtype  \n",
            "---  ------       --------------  -----  \n",
            " 0   N            200 non-null    int64  \n",
            " 1   P            200 non-null    int64  \n",
            " 2   K            200 non-null    int64  \n",
            " 3   temperature  200 non-null    float64\n",
            " 4   humidity     200 non-null    float64\n",
            " 5   ph           200 non-null    float64\n",
            " 6   rainfall     200 non-null    float64\n",
            " 7   label        200 non-null    object \n",
            "dtypes: float64(4), int64(3), object(1)\n",
            "memory usage: 12.6+ KB\n"
          ],
          "name": "stdout"
        },
        {
          "output_type": "execute_result",
          "data": {
            "text/html": [
              "<div>\n",
              "<style scoped>\n",
              "    .dataframe tbody tr th:only-of-type {\n",
              "        vertical-align: middle;\n",
              "    }\n",
              "\n",
              "    .dataframe tbody tr th {\n",
              "        vertical-align: top;\n",
              "    }\n",
              "\n",
              "    .dataframe thead th {\n",
              "        text-align: right;\n",
              "    }\n",
              "</style>\n",
              "<table border=\"1\" class=\"dataframe\">\n",
              "  <thead>\n",
              "    <tr style=\"text-align: right;\">\n",
              "      <th></th>\n",
              "      <th>N</th>\n",
              "      <th>P</th>\n",
              "      <th>K</th>\n",
              "      <th>temperature</th>\n",
              "      <th>humidity</th>\n",
              "      <th>ph</th>\n",
              "      <th>rainfall</th>\n",
              "      <th>label</th>\n",
              "    </tr>\n",
              "  </thead>\n",
              "  <tbody>\n",
              "    <tr>\n",
              "      <th>0</th>\n",
              "      <td>24</td>\n",
              "      <td>128</td>\n",
              "      <td>196</td>\n",
              "      <td>22.750888</td>\n",
              "      <td>90.694892</td>\n",
              "      <td>5.521467</td>\n",
              "      <td>110.431786</td>\n",
              "      <td>apple</td>\n",
              "    </tr>\n",
              "    <tr>\n",
              "      <th>1</th>\n",
              "      <td>7</td>\n",
              "      <td>144</td>\n",
              "      <td>197</td>\n",
              "      <td>23.849401</td>\n",
              "      <td>94.348150</td>\n",
              "      <td>6.133221</td>\n",
              "      <td>114.051250</td>\n",
              "      <td>apple</td>\n",
              "    </tr>\n",
              "    <tr>\n",
              "      <th>2</th>\n",
              "      <td>14</td>\n",
              "      <td>128</td>\n",
              "      <td>205</td>\n",
              "      <td>22.608010</td>\n",
              "      <td>94.589006</td>\n",
              "      <td>6.226290</td>\n",
              "      <td>116.039659</td>\n",
              "      <td>apple</td>\n",
              "    </tr>\n",
              "    <tr>\n",
              "      <th>3</th>\n",
              "      <td>8</td>\n",
              "      <td>120</td>\n",
              "      <td>201</td>\n",
              "      <td>21.186674</td>\n",
              "      <td>91.134357</td>\n",
              "      <td>6.321152</td>\n",
              "      <td>122.233323</td>\n",
              "      <td>apple</td>\n",
              "    </tr>\n",
              "    <tr>\n",
              "      <th>4</th>\n",
              "      <td>20</td>\n",
              "      <td>129</td>\n",
              "      <td>201</td>\n",
              "      <td>23.410447</td>\n",
              "      <td>91.699133</td>\n",
              "      <td>5.587906</td>\n",
              "      <td>116.077793</td>\n",
              "      <td>apple</td>\n",
              "    </tr>\n",
              "  </tbody>\n",
              "</table>\n",
              "</div>"
            ],
            "text/plain": [
              "    N    P    K  temperature   humidity        ph    rainfall  label\n",
              "0  24  128  196    22.750888  90.694892  5.521467  110.431786  apple\n",
              "1   7  144  197    23.849401  94.348150  6.133221  114.051250  apple\n",
              "2  14  128  205    22.608010  94.589006  6.226290  116.039659  apple\n",
              "3   8  120  201    21.186674  91.134357  6.321152  122.233323  apple\n",
              "4  20  129  201    23.410447  91.699133  5.587906  116.077793  apple"
            ]
          },
          "metadata": {
            "tags": []
          },
          "execution_count": 2
        }
      ]
    },
    {
      "cell_type": "code",
      "metadata": {
        "colab": {
          "base_uri": "https://localhost:8080/",
          "height": 596
        },
        "id": "NVv8xlQIbYMa",
        "outputId": "5402513f-c481-4096-c1ce-92838e3ce018"
      },
      "source": [
        "correlation = df.corr()\n",
        "plt.figure(figsize=(12, 10))\n",
        "heatmap = sns.heatmap(correlation, annot=True, linewidths=0, vmin=-1, cmap=\"RdYlBu_r\")"
      ],
      "execution_count": null,
      "outputs": [
        {
          "output_type": "display_data",
          "data": {
            "image/png": "[encoded data removed]",
            "text/plain": [
              "<Figure size 864x720 with 2 Axes>"
            ]
          },
          "metadata": {
            "tags": [],
            "needs_background": "light"
          }
        }
      ]
    },
    {
      "cell_type": "code",
      "metadata": {
        "colab": {
          "base_uri": "https://localhost:8080/",
          "height": 419
        },
        "id": "9_UT3AXI3QSl",
        "outputId": "bf22a4fc-5053-46f9-8093-16764c003bcb"
      },
      "source": [
        "df.isnull().sum()\n",
        "x = df.iloc[: , :-1]\n",
        "y=df['label']\n",
        "x"
      ],
      "execution_count": null,
      "outputs": [
        {
          "output_type": "execute_result",
          "data": {
            "text/html": [
              "<div>\n",
              "<style scoped>\n",
              "    .dataframe tbody tr th:only-of-type {\n",
              "        vertical-align: middle;\n",
              "    }\n",
              "\n",
              "    .dataframe tbody tr th {\n",
              "        vertical-align: top;\n",
              "    }\n",
              "\n",
              "    .dataframe thead th {\n",
              "        text-align: right;\n",
              "    }\n",
              "</style>\n",
              "<table border=\"1\" class=\"dataframe\">\n",
              "  <thead>\n",
              "    <tr style=\"text-align: right;\">\n",
              "      <th></th>\n",
              "      <th>N</th>\n",
              "      <th>P</th>\n",
              "      <th>K</th>\n",
              "      <th>temperature</th>\n",
              "      <th>humidity</th>\n",
              "      <th>ph</th>\n",
              "      <th>rainfall</th>\n",
              "    </tr>\n",
              "  </thead>\n",
              "  <tbody>\n",
              "    <tr>\n",
              "      <th>0</th>\n",
              "      <td>24</td>\n",
              "      <td>128</td>\n",
              "      <td>196</td>\n",
              "      <td>22.750888</td>\n",
              "      <td>90.694892</td>\n",
              "      <td>5.521467</td>\n",
              "      <td>110.431786</td>\n",
              "    </tr>\n",
              "    <tr>\n",
              "      <th>1</th>\n",
              "      <td>7</td>\n",
              "      <td>144</td>\n",
              "      <td>197</td>\n",
              "      <td>23.849401</td>\n",
              "      <td>94.348150</td>\n",
              "      <td>6.133221</td>\n",
              "      <td>114.051250</td>\n",
              "    </tr>\n",
              "    <tr>\n",
              "      <th>2</th>\n",
              "      <td>14</td>\n",
              "      <td>128</td>\n",
              "      <td>205</td>\n",
              "      <td>22.608010</td>\n",
              "      <td>94.589006</td>\n",
              "      <td>6.226290</td>\n",
              "      <td>116.039659</td>\n",
              "    </tr>\n",
              "    <tr>\n",
              "      <th>3</th>\n",
              "      <td>8</td>\n",
              "      <td>120</td>\n",
              "      <td>201</td>\n",
              "      <td>21.186674</td>\n",
              "      <td>91.134357</td>\n",
              "      <td>6.321152</td>\n",
              "      <td>122.233323</td>\n",
              "    </tr>\n",
              "    <tr>\n",
              "      <th>4</th>\n",
              "      <td>20</td>\n",
              "      <td>129</td>\n",
              "      <td>201</td>\n",
              "      <td>23.410447</td>\n",
              "      <td>91.699133</td>\n",
              "      <td>5.587906</td>\n",
              "      <td>116.077793</td>\n",
              "    </tr>\n",
              "    <tr>\n",
              "      <th>...</th>\n",
              "      <td>...</td>\n",
              "      <td>...</td>\n",
              "      <td>...</td>\n",
              "      <td>...</td>\n",
              "      <td>...</td>\n",
              "      <td>...</td>\n",
              "      <td>...</td>\n",
              "    </tr>\n",
              "    <tr>\n",
              "      <th>195</th>\n",
              "      <td>108</td>\n",
              "      <td>94</td>\n",
              "      <td>47</td>\n",
              "      <td>27.359116</td>\n",
              "      <td>84.546250</td>\n",
              "      <td>6.387431</td>\n",
              "      <td>90.812505</td>\n",
              "    </tr>\n",
              "    <tr>\n",
              "      <th>196</th>\n",
              "      <td>92</td>\n",
              "      <td>81</td>\n",
              "      <td>52</td>\n",
              "      <td>28.010680</td>\n",
              "      <td>76.528081</td>\n",
              "      <td>5.891414</td>\n",
              "      <td>103.704078</td>\n",
              "    </tr>\n",
              "    <tr>\n",
              "      <th>197</th>\n",
              "      <td>110</td>\n",
              "      <td>71</td>\n",
              "      <td>54</td>\n",
              "      <td>28.672089</td>\n",
              "      <td>82.207936</td>\n",
              "      <td>5.725419</td>\n",
              "      <td>94.379875</td>\n",
              "    </tr>\n",
              "    <tr>\n",
              "      <th>198</th>\n",
              "      <td>82</td>\n",
              "      <td>75</td>\n",
              "      <td>55</td>\n",
              "      <td>27.345851</td>\n",
              "      <td>78.487384</td>\n",
              "      <td>6.281070</td>\n",
              "      <td>92.155243</td>\n",
              "    </tr>\n",
              "    <tr>\n",
              "      <th>199</th>\n",
              "      <td>117</td>\n",
              "      <td>81</td>\n",
              "      <td>53</td>\n",
              "      <td>29.507046</td>\n",
              "      <td>78.205856</td>\n",
              "      <td>5.507642</td>\n",
              "      <td>98.125658</td>\n",
              "    </tr>\n",
              "  </tbody>\n",
              "</table>\n",
              "<p>200 rows × 7 columns</p>\n",
              "</div>"
            ],
            "text/plain": [
              "       N    P    K  temperature   humidity        ph    rainfall\n",
              "0     24  128  196    22.750888  90.694892  5.521467  110.431786\n",
              "1      7  144  197    23.849401  94.348150  6.133221  114.051250\n",
              "2     14  128  205    22.608010  94.589006  6.226290  116.039659\n",
              "3      8  120  201    21.186674  91.134357  6.321152  122.233323\n",
              "4     20  129  201    23.410447  91.699133  5.587906  116.077793\n",
              "..   ...  ...  ...          ...        ...       ...         ...\n",
              "195  108   94   47    27.359116  84.546250  6.387431   90.812505\n",
              "196   92   81   52    28.010680  76.528081  5.891414  103.704078\n",
              "197  110   71   54    28.672089  82.207936  5.725419   94.379875\n",
              "198   82   75   55    27.345851  78.487384  6.281070   92.155243\n",
              "199  117   81   53    29.507046  78.205856  5.507642   98.125658\n",
              "\n",
              "[200 rows x 7 columns]"
            ]
          },
          "metadata": {
            "tags": []
          },
          "execution_count": 4
        }
      ]
    },
    {
      "cell_type": "code",
      "metadata": {
        "id": "YSbB2bX1obAt",
        "colab": {
          "base_uri": "https://localhost:8080/"
        },
        "outputId": "d829b864-6c13-4c8a-93a8-4ef6ab70eadf"
      },
      "source": [
        "df['label'].value_counts()"
      ],
      "execution_count": null,
      "outputs": [
        {
          "output_type": "execute_result",
          "data": {
            "text/plain": [
              "apple     100\n",
              "banana    100\n",
              "Name: label, dtype: int64"
            ]
          },
          "metadata": {
            "tags": []
          },
          "execution_count": 5
        }
      ]
    },
    {
      "cell_type": "code",
      "metadata": {
        "id": "YNAXSgB3oqXS",
        "colab": {
          "base_uri": "https://localhost:8080/",
          "height": 204
        },
        "outputId": "10ff13d2-1673-4dfe-9087-f3a2cddea065"
      },
      "source": [
        "y = df['label']\n",
        "X = df.drop(['label'], axis=1, inplace=False)\n",
        "X.head()"
      ],
      "execution_count": null,
      "outputs": [
        {
          "output_type": "execute_result",
          "data": {
            "text/html": [
              "<div>\n",
              "<style scoped>\n",
              "    .dataframe tbody tr th:only-of-type {\n",
              "        vertical-align: middle;\n",
              "    }\n",
              "\n",
              "    .dataframe tbody tr th {\n",
              "        vertical-align: top;\n",
              "    }\n",
              "\n",
              "    .dataframe thead th {\n",
              "        text-align: right;\n",
              "    }\n",
              "</style>\n",
              "<table border=\"1\" class=\"dataframe\">\n",
              "  <thead>\n",
              "    <tr style=\"text-align: right;\">\n",
              "      <th></th>\n",
              "      <th>N</th>\n",
              "      <th>P</th>\n",
              "      <th>K</th>\n",
              "      <th>temperature</th>\n",
              "      <th>humidity</th>\n",
              "      <th>ph</th>\n",
              "      <th>rainfall</th>\n",
              "    </tr>\n",
              "  </thead>\n",
              "  <tbody>\n",
              "    <tr>\n",
              "      <th>0</th>\n",
              "      <td>24</td>\n",
              "      <td>128</td>\n",
              "      <td>196</td>\n",
              "      <td>22.750888</td>\n",
              "      <td>90.694892</td>\n",
              "      <td>5.521467</td>\n",
              "      <td>110.431786</td>\n",
              "    </tr>\n",
              "    <tr>\n",
              "      <th>1</th>\n",
              "      <td>7</td>\n",
              "      <td>144</td>\n",
              "      <td>197</td>\n",
              "      <td>23.849401</td>\n",
              "      <td>94.348150</td>\n",
              "      <td>6.133221</td>\n",
              "      <td>114.051250</td>\n",
              "    </tr>\n",
              "    <tr>\n",
              "      <th>2</th>\n",
              "      <td>14</td>\n",
              "      <td>128</td>\n",
              "      <td>205</td>\n",
              "      <td>22.608010</td>\n",
              "      <td>94.589006</td>\n",
              "      <td>6.226290</td>\n",
              "      <td>116.039659</td>\n",
              "    </tr>\n",
              "    <tr>\n",
              "      <th>3</th>\n",
              "      <td>8</td>\n",
              "      <td>120</td>\n",
              "      <td>201</td>\n",
              "      <td>21.186674</td>\n",
              "      <td>91.134357</td>\n",
              "      <td>6.321152</td>\n",
              "      <td>122.233323</td>\n",
              "    </tr>\n",
              "    <tr>\n",
              "      <th>4</th>\n",
              "      <td>20</td>\n",
              "      <td>129</td>\n",
              "      <td>201</td>\n",
              "      <td>23.410447</td>\n",
              "      <td>91.699133</td>\n",
              "      <td>5.587906</td>\n",
              "      <td>116.077793</td>\n",
              "    </tr>\n",
              "  </tbody>\n",
              "</table>\n",
              "</div>"
            ],
            "text/plain": [
              "    N    P    K  temperature   humidity        ph    rainfall\n",
              "0  24  128  196    22.750888  90.694892  5.521467  110.431786\n",
              "1   7  144  197    23.849401  94.348150  6.133221  114.051250\n",
              "2  14  128  205    22.608010  94.589006  6.226290  116.039659\n",
              "3   8  120  201    21.186674  91.134357  6.321152  122.233323\n",
              "4  20  129  201    23.410447  91.699133  5.587906  116.077793"
            ]
          },
          "metadata": {
            "tags": []
          },
          "execution_count": 6
        }
      ]
    },
    {
      "cell_type": "markdown",
      "metadata": {
        "id": "gzf2iniEvtx6"
      },
      "source": [
        "#SVM\n"
      ]
    },
    {
      "cell_type": "code",
      "metadata": {
        "id": "oRXi5cwuqcmv",
        "colab": {
          "base_uri": "https://localhost:8080/"
        },
        "outputId": "ff9863f6-55c9-4810-be8a-8b8aba026db3"
      },
      "source": [
        "X_train, X_test, y_train, y_test = train_test_split(X, y,test_size = 0.2,random_state = 0)\n",
        "print(\"Training set has {} samples.\".format(X_train.shape[0]))\n",
        "print(\"Testing set has {} samples.\".format(X_test.shape[0]))"
      ],
      "execution_count": null,
      "outputs": [
        {
          "output_type": "stream",
          "text": [
            "Training set has 160 samples.\n",
            "Testing set has 40 samples.\n"
          ],
          "name": "stdout"
        }
      ]
    },
    {
      "cell_type": "code",
      "metadata": {
        "id": "RJOxb8QZqeFv",
        "colab": {
          "base_uri": "https://localhost:8080/"
        },
        "outputId": "78b22a22-ec16-41c3-f510-46413604bf31"
      },
      "source": [
        "sc = StandardScaler()\n",
        "X_train = sc.fit_transform(X_train)\n",
        "X_test = sc.transform(X_test)\n",
        "SV_classifier = SVC(kernel='linear')\n",
        "SV_classifier.fit(X_train, y_train)\n",
        "y_predicted = SV_classifier.predict(X_test)\n",
        "y_predicted"
      ],
      "execution_count": null,
      "outputs": [
        {
          "output_type": "execute_result",
          "data": {
            "text/plain": [
              "array(['apple', 'banana', 'banana', 'apple', 'banana', 'banana', 'apple',\n",
              "       'banana', 'apple', 'banana', 'apple', 'banana', 'banana', 'banana',\n",
              "       'apple', 'apple', 'apple', 'banana', 'apple', 'apple', 'banana',\n",
              "       'banana', 'apple', 'banana', 'apple', 'banana', 'banana', 'banana',\n",
              "       'banana', 'apple', 'apple', 'apple', 'banana', 'banana', 'apple',\n",
              "       'banana', 'banana', 'apple', 'apple', 'banana'], dtype=object)"
            ]
          },
          "metadata": {
            "tags": []
          },
          "execution_count": 8
        }
      ]
    },
    {
      "cell_type": "code",
      "metadata": {
        "id": "wJbyAYAPqish",
        "colab": {
          "base_uri": "https://localhost:8080/"
        },
        "outputId": "3c542331-fb32-4121-b120-e24e0e86698d"
      },
      "source": [
        "SVM_conf = confusion_matrix(y_test,y_predicted)\n",
        "print(SVM_conf)\n",
        "SVM_TP = SVM_conf[1, 1]\n",
        "SVM_TN = SVM_conf[0, 0]\n",
        "SVM_FP = SVM_conf[0, 1]\n",
        "SVM_FN = SVM_conf[1, 0]"
      ],
      "execution_count": null,
      "outputs": [
        {
          "output_type": "stream",
          "text": [
            "[[18  0]\n",
            " [ 0 22]]\n"
          ],
          "name": "stdout"
        }
      ]
    },
    {
      "cell_type": "code",
      "metadata": {
        "id": "IwRqy06hs7t2"
      },
      "source": [
        "SVM_acc=[]\n",
        "SVM_prec=[]\n",
        "SVM_recall=[]\n",
        "SVM_F1=[]\n",
        "SVM_sens=[]\n",
        "SVM_spec=[]\n",
        "SVM_FPR=[]\n",
        "SVM_FNR=[]\n",
        "SVM_NPV=[]\n",
        "SVM_FDR=[]\n",
        "SVM_MCC=[]\n",
        "j=0"
      ],
      "execution_count": null,
      "outputs": []
    },
    {
      "cell_type": "code",
      "metadata": {
        "id": "J3Q--cbTs-v5",
        "colab": {
          "base_uri": "https://localhost:8080/"
        },
        "outputId": "27e838d7-4190-41bf-eca4-7351f1cdb034"
      },
      "source": [
        "X_train, X_test, y_train, y_test = train_test_split(X, y,test_size = 0.2,random_state = 0)\n",
        "print(\"Training set has {} samples.\".format(X_train.shape[0]))\n",
        "print(\"Testing set has {} samples.\".format(X_test.shape[0]))\n",
        "print(j)"
      ],
      "execution_count": null,
      "outputs": [
        {
          "output_type": "stream",
          "text": [
            "Training set has 160 samples.\n",
            "Testing set has 40 samples.\n",
            "2\n"
          ],
          "name": "stdout"
        }
      ]
    },
    {
      "cell_type": "code",
      "metadata": {
        "id": "NqzecZk-tBKY"
      },
      "source": [
        "sc = StandardScaler()\n",
        "X_train = sc.fit_transform(X_train)\n",
        "X_test = sc.transform(X_test)"
      ],
      "execution_count": null,
      "outputs": []
    },
    {
      "cell_type": "code",
      "metadata": {
        "id": "-m7mFpBdtDMi",
        "colab": {
          "base_uri": "https://localhost:8080/"
        },
        "outputId": "e68a80d1-ade0-46b7-c3c7-d6e9e8916ea8"
      },
      "source": [
        "SV_classifier = SVC(kernel='linear')\n",
        "SV_classifier.fit(X_train, y_train)\n",
        "y_predicted = SV_classifier.predict(X_test)\n",
        "y_predicted"
      ],
      "execution_count": null,
      "outputs": [
        {
          "output_type": "execute_result",
          "data": {
            "text/plain": [
              "array(['apple', 'banana', 'banana', 'apple', 'banana', 'banana', 'apple',\n",
              "       'banana', 'apple', 'banana', 'apple', 'banana', 'banana', 'banana',\n",
              "       'apple', 'apple', 'apple', 'banana', 'apple', 'apple', 'banana',\n",
              "       'banana', 'apple', 'banana', 'apple', 'banana', 'banana', 'banana',\n",
              "       'banana', 'apple', 'apple', 'apple', 'banana', 'banana', 'apple',\n",
              "       'banana', 'banana', 'apple', 'apple', 'banana'], dtype=object)"
            ]
          },
          "metadata": {
            "tags": []
          },
          "execution_count": 28
        }
      ]
    },
    {
      "cell_type": "code",
      "metadata": {
        "id": "0QGFWSJktD6K",
        "colab": {
          "base_uri": "https://localhost:8080/"
        },
        "outputId": "cdb180a3-cb33-42f2-f4c9-6cc2503faca8"
      },
      "source": [
        "SVM_conf = confusion_matrix(y_test,y_predicted)\n",
        "print(SVM_conf)\n",
        "SVM_TP = SVM_conf[1, 1]\n",
        "SVM_TN = SVM_conf[0, 0]\n",
        "SVM_FP = SVM_conf[0, 1]\n",
        "SVM_FN = SVM_conf[1, 0]\n",
        "b=round(accuracy_score(y_test, y_predicted), 4)\n",
        "SVM_acc.append(b)\n",
        "SVM_prec.append(SVM_TP / float(SVM_FP + SVM_TP))\n",
        "SVM_recall.append(SVM_TP / float(SVM_FN + SVM_TP))\n",
        "SVM_F1.append(2 * (SVM_prec[j] * SVM_recall[j]) / (SVM_prec[j] +SVM_recall[j]))\n",
        "SVM_sens.append(SVM_TP / float(SVM_FN + SVM_TP))\n",
        "SVM_spec.append(SVM_TN / float(SVM_TN + SVM_FP))\n",
        "SVM_FPR.append(SVM_FP / float(SVM_TN + SVM_FP))\n",
        "SVM_FNR.append(SVM_FN/ float(SVM_FN + SVM_TP))\n",
        "SVM_NPV.append(SVM_TN / float(SVM_TN+SVM_FN))\n",
        "SVM_FDR.append(SVM_FP / float(SVM_FP+SVM_TP))\n",
        "SVM_MCC.append((SVM_TP*SVM_TN)-(SVM_FP*SVM_FN) /math.sqrt((SVM_TP+SVM_FP)*(SVM_TP+SVM_FN)*(SVM_TN+SVM_FP)*(SVM_TN+SVM_FN)))\n",
        "j+=1"
      ],
      "execution_count": null,
      "outputs": [
        {
          "output_type": "stream",
          "text": [
            "[[18  0]\n",
            " [ 0 22]]\n"
          ],
          "name": "stdout"
        }
      ]
    },
    {
      "cell_type": "code",
      "metadata": {
        "id": "qkI8gkKFteR5"
      },
      "source": [
        "TrainPerc=[40,30,20]"
      ],
      "execution_count": null,
      "outputs": []
    },
    {
      "cell_type": "code",
      "metadata": {
        "id": "XLemWht2tH88",
        "colab": {
          "base_uri": "https://localhost:8080/",
          "height": 196
        },
        "outputId": "3f974d4c-f737-45f2-f01d-2342795186d7"
      },
      "source": [
        "data1 = pd.DataFrame({'TraningPercentage':TrainPerc, 'Accuracy':SVM_acc, 'Precison':SVM_prec,'Recall':SVM_recall,'F1-Measure':SVM_F1,'Sensitivity':SVM_sens,\n",
        "                     'Specificity':SVM_spec,'False Positive Rate(FPR)':SVM_FPR,'False Negative Rate(FNR)':SVM_FNR,'Negative Predictive Value(NPV)':SVM_NPV,\n",
        "                     'False Discovery Rate(FDR)':SVM_FDR,'Matthews’s correlation coefficient(MCC)':SVM_MCC})\n",
        "data1.head()"
      ],
      "execution_count": null,
      "outputs": [
        {
          "output_type": "execute_result",
          "data": {
            "text/html": [
              "<div>\n",
              "<style scoped>\n",
              "    .dataframe tbody tr th:only-of-type {\n",
              "        vertical-align: middle;\n",
              "    }\n",
              "\n",
              "    .dataframe tbody tr th {\n",
              "        vertical-align: top;\n",
              "    }\n",
              "\n",
              "    .dataframe thead th {\n",
              "        text-align: right;\n",
              "    }\n",
              "</style>\n",
              "<table border=\"1\" class=\"dataframe\">\n",
              "  <thead>\n",
              "    <tr style=\"text-align: right;\">\n",
              "      <th></th>\n",
              "      <th>TraningPercentage</th>\n",
              "      <th>Accuracy</th>\n",
              "      <th>Precison</th>\n",
              "      <th>Recall</th>\n",
              "      <th>F1-Measure</th>\n",
              "      <th>Sensitivity</th>\n",
              "      <th>Specificity</th>\n",
              "      <th>False Positive Rate(FPR)</th>\n",
              "      <th>False Negative Rate(FNR)</th>\n",
              "      <th>Negative Predictive Value(NPV)</th>\n",
              "      <th>False Discovery Rate(FDR)</th>\n",
              "      <th>Matthews’s correlation coefficient(MCC)</th>\n",
              "    </tr>\n",
              "  </thead>\n",
              "  <tbody>\n",
              "    <tr>\n",
              "      <th>0</th>\n",
              "      <td>40</td>\n",
              "      <td>1.0</td>\n",
              "      <td>1.0</td>\n",
              "      <td>1.0</td>\n",
              "      <td>1.0</td>\n",
              "      <td>1.0</td>\n",
              "      <td>1.0</td>\n",
              "      <td>0.0</td>\n",
              "      <td>0.0</td>\n",
              "      <td>1.0</td>\n",
              "      <td>0.0</td>\n",
              "      <td>1599.0</td>\n",
              "    </tr>\n",
              "    <tr>\n",
              "      <th>1</th>\n",
              "      <td>30</td>\n",
              "      <td>1.0</td>\n",
              "      <td>1.0</td>\n",
              "      <td>1.0</td>\n",
              "      <td>1.0</td>\n",
              "      <td>1.0</td>\n",
              "      <td>1.0</td>\n",
              "      <td>0.0</td>\n",
              "      <td>0.0</td>\n",
              "      <td>1.0</td>\n",
              "      <td>0.0</td>\n",
              "      <td>899.0</td>\n",
              "    </tr>\n",
              "    <tr>\n",
              "      <th>2</th>\n",
              "      <td>20</td>\n",
              "      <td>1.0</td>\n",
              "      <td>1.0</td>\n",
              "      <td>1.0</td>\n",
              "      <td>1.0</td>\n",
              "      <td>1.0</td>\n",
              "      <td>1.0</td>\n",
              "      <td>0.0</td>\n",
              "      <td>0.0</td>\n",
              "      <td>1.0</td>\n",
              "      <td>0.0</td>\n",
              "      <td>396.0</td>\n",
              "    </tr>\n",
              "  </tbody>\n",
              "</table>\n",
              "</div>"
            ],
            "text/plain": [
              "   TraningPercentage  ...  Matthews’s correlation coefficient(MCC)\n",
              "0                 40  ...                                   1599.0\n",
              "1                 30  ...                                    899.0\n",
              "2                 20  ...                                    396.0\n",
              "\n",
              "[3 rows x 12 columns]"
            ]
          },
          "metadata": {
            "tags": []
          },
          "execution_count": 31
        }
      ]
    },
    {
      "cell_type": "code",
      "metadata": {
        "id": "iK2QpMMousMF"
      },
      "source": [
        "data1 = data1.transpose()"
      ],
      "execution_count": null,
      "outputs": []
    },
    {
      "cell_type": "code",
      "metadata": {
        "id": "55kCP6T5tKPu"
      },
      "source": [
        "data1.to_csv(path_or_buf='SVMData.csv')"
      ],
      "execution_count": null,
      "outputs": []
    },
    {
      "cell_type": "code",
      "metadata": {
        "id": "HXyybYY7vLP9",
        "colab": {
          "base_uri": "https://localhost:8080/",
          "height": 296
        },
        "outputId": "451156e7-04ca-49fc-b272-23c999bd9ad2"
      },
      "source": [
        "plot_roc_curve(SV_classifier, X_test, y_test,name='SVM')"
      ],
      "execution_count": null,
      "outputs": [
        {
          "output_type": "execute_result",
          "data": {
            "text/plain": [
              "<sklearn.metrics._plot.roc_curve.RocCurveDisplay at 0x7ffb9cf71f90>"
            ]
          },
          "metadata": {
            "tags": []
          },
          "execution_count": 40
        },
        {
          "output_type": "display_data",
          "data": {
            "image/png": "[encoded data removed]",
            "text/plain": [
              "<Figure size 432x288 with 1 Axes>"
            ]
          },
          "metadata": {
            "tags": [],
            "needs_background": "light"
          }
        }
      ]
    },
    {
      "cell_type": "markdown",
      "metadata": {
        "id": "wsPo2XedvxvG"
      },
      "source": [
        "#KNN\n"
      ]
    },
    {
      "cell_type": "code",
      "metadata": {
        "id": "qEEr5UZ1vxLU"
      },
      "source": [
        "KNN_acc=[]\n",
        "KNN_prec=[]\n",
        "KNN_recall=[]\n",
        "KNN_F1=[]\n",
        "KNN_sens=[]\n",
        "KNN_spec=[]\n",
        "KNN_FPR=[]\n",
        "KNN_FNR=[]\n",
        "KNN_NPV=[]\n",
        "KNN_FDR=[]\n",
        "KNN_MCC=[]\n",
        "K_Values=['1','1','1']\n",
        "l=0"
      ],
      "execution_count": null,
      "outputs": []
    },
    {
      "cell_type": "code",
      "metadata": {
        "id": "KWSmNpiiwA1V",
        "colab": {
          "base_uri": "https://localhost:8080/"
        },
        "outputId": "6e09cb63-c56b-440e-bc85-58aec4cb1c07"
      },
      "source": [
        "X_train, X_test, y_train, y_test = train_test_split(X, y,test_size = 0.2,random_state = 0)\n",
        "print(\"Training set has {} samples.\".format(X_train.shape[0]))\n",
        "print(\"Testing set has {} samples.\".format(X_test.shape[0]))\n",
        "print(l)"
      ],
      "execution_count": null,
      "outputs": [
        {
          "output_type": "stream",
          "text": [
            "Training set has 160 samples.\n",
            "Testing set has 40 samples.\n",
            "2\n"
          ],
          "name": "stdout"
        }
      ]
    },
    {
      "cell_type": "code",
      "metadata": {
        "id": "6y4MSvpowGgh",
        "colab": {
          "base_uri": "https://localhost:8080/"
        },
        "outputId": "58b1eb3a-6383-4c7a-fd7b-6d2e5df27bff"
      },
      "source": [
        "knn = KNeighborsClassifier()\n",
        "param_grid = {'n_neighbors': np.arange(1, 100)}\n",
        "knn_gscv = GridSearchCV(knn, param_grid, cv=20)\n",
        "knn_gscv.fit(X_train, y_train)"
      ],
      "execution_count": null,
      "outputs": [
        {
          "output_type": "execute_result",
          "data": {
            "text/plain": [
              "GridSearchCV(cv=20, error_score=nan,\n",
              "             estimator=KNeighborsClassifier(algorithm='auto', leaf_size=30,\n",
              "                                            metric='minkowski',\n",
              "                                            metric_params=None, n_jobs=None,\n",
              "                                            n_neighbors=5, p=2,\n",
              "                                            weights='uniform'),\n",
              "             iid='deprecated', n_jobs=None,\n",
              "             param_grid={'n_neighbors': array([ 1,  2,  3,  4,  5,  6,  7,  8,  9, 10, 11, 12, 13, 14, 15, 16, 17,\n",
              "       18, 19, 20, 21, 22, 23, 24, 25, 26, 27, 28, 29, 30, 31, 32, 33, 34,\n",
              "       35, 36, 37, 38, 39, 40, 41, 42, 43, 44, 45, 46, 47, 48, 49, 50, 51,\n",
              "       52, 53, 54, 55, 56, 57, 58, 59, 60, 61, 62, 63, 64, 65, 66, 67, 68,\n",
              "       69, 70, 71, 72, 73, 74, 75, 76, 77, 78, 79, 80, 81, 82, 83, 84, 85,\n",
              "       86, 87, 88, 89, 90, 91, 92, 93, 94, 95, 96, 97, 98, 99])},\n",
              "             pre_dispatch='2*n_jobs', refit=True, return_train_score=False,\n",
              "             scoring=None, verbose=0)"
            ]
          },
          "metadata": {
            "tags": []
          },
          "execution_count": 53
        }
      ]
    },
    {
      "cell_type": "code",
      "metadata": {
        "id": "BZfMlDN1wI_O",
        "colab": {
          "base_uri": "https://localhost:8080/"
        },
        "outputId": "719afcd5-3079-4bd0-8c37-aaf941f5c310"
      },
      "source": [
        "knn_gscv.best_params_"
      ],
      "execution_count": null,
      "outputs": [
        {
          "output_type": "execute_result",
          "data": {
            "text/plain": [
              "{'n_neighbors': 1}"
            ]
          },
          "metadata": {
            "tags": []
          },
          "execution_count": 51
        }
      ]
    },
    {
      "cell_type": "code",
      "metadata": {
        "id": "7Z2rmo_wwoNX",
        "colab": {
          "base_uri": "https://localhost:8080/"
        },
        "outputId": "63def066-3e6d-4eec-da4d-fb1dd43f5aff"
      },
      "source": [
        "KNN_classifier = KNeighborsClassifier(n_neighbors=1)\n",
        "KNN_classifier.fit(X_train, y_train)\n",
        "y_predicted = KNN_classifier.predict(X_test)\n",
        "y_predicted"
      ],
      "execution_count": null,
      "outputs": [
        {
          "output_type": "execute_result",
          "data": {
            "text/plain": [
              "array(['apple', 'banana', 'banana', 'apple', 'banana', 'banana', 'apple',\n",
              "       'banana', 'apple', 'banana', 'apple', 'banana', 'banana', 'banana',\n",
              "       'apple', 'apple', 'apple', 'banana', 'apple', 'apple', 'banana',\n",
              "       'banana', 'apple', 'banana', 'apple', 'banana', 'banana', 'banana',\n",
              "       'banana', 'apple', 'apple', 'apple', 'banana', 'banana', 'apple',\n",
              "       'banana', 'banana', 'apple', 'apple', 'banana'], dtype=object)"
            ]
          },
          "metadata": {
            "tags": []
          },
          "execution_count": 71
        }
      ]
    },
    {
      "cell_type": "code",
      "metadata": {
        "id": "e--ozrOwwo6E",
        "colab": {
          "base_uri": "https://localhost:8080/"
        },
        "outputId": "70471c7c-3abf-4d3c-9d1f-2770a1234847"
      },
      "source": [
        "KNN_conf = confusion_matrix(y_test, y_predicted)\n",
        "print(KNN_conf)\n",
        "KNN_TP = KNN_conf[1, 1]\n",
        "KNN_TN = KNN_conf[0, 0]\n",
        "KNN_FP = KNN_conf[0, 1]\n",
        "KNN_FN = KNN_conf[1, 0]\n",
        "q=round(accuracy_score(y_test, y_predicted), 4)\n",
        "KNN_acc.append(q)\n",
        "KNN_prec.append(KNN_TP / float(KNN_FP + KNN_TP))\n",
        "KNN_recall.append(KNN_TP / float(KNN_FN + KNN_TP))\n",
        "KNN_F1.append(2 * (KNN_prec[l] * KNN_recall[l]) / (KNN_prec[l] +KNN_recall[l]))\n",
        "KNN_sens.append(KNN_TP / float(KNN_FN + KNN_TP))\n",
        "KNN_spec.append(KNN_TN / float(KNN_TN + KNN_FP))\n",
        "KNN_FPR.append(KNN_FP / float(KNN_TN + KNN_FP))\n",
        "KNN_FNR.append(KNN_FN/ float(KNN_FN + KNN_TP))\n",
        "KNN_NPV.append(KNN_TN / float(KNN_TN+KNN_FN))\n",
        "KNN_FDR.append(KNN_FP / float(KNN_FP+KNN_TP))\n",
        "KNN_MCC.append((KNN_TP*KNN_TN)-(KNN_FP*KNN_FN) /math.sqrt((KNN_TP+KNN_FP)*(KNN_TP+KNN_FN)*(KNN_TN+KNN_FP)*(KNN_TN+KNN_FN)))\n",
        "l+=1"
      ],
      "execution_count": null,
      "outputs": [
        {
          "output_type": "stream",
          "text": [
            "[[18  0]\n",
            " [ 0 22]]\n"
          ],
          "name": "stdout"
        }
      ]
    },
    {
      "cell_type": "code",
      "metadata": {
        "id": "oz20s1uGwsJG",
        "colab": {
          "base_uri": "https://localhost:8080/",
          "height": 142
        },
        "outputId": "9ce91d7d-f236-4f20-8115-d5101ab1197c"
      },
      "source": [
        "data2 = pd.DataFrame({'K-Values':K_Values,'TraningPercentage':TrainPerc, 'Accuracy':KNN_acc, 'Precison':KNN_prec,'Recall':KNN_recall,'F1Measure':KNN_F1,'Sensitivity':KNN_sens,\n",
        "                     'Specificity':KNN_spec,'FPR':KNN_FPR,'FNR':KNN_FNR,'NPV':KNN_NPV,\n",
        "                     'FDR':KNN_FDR,'MCC':KNN_MCC})\n",
        "data2.head()"
      ],
      "execution_count": null,
      "outputs": [
        {
          "output_type": "execute_result",
          "data": {
            "text/html": [
              "<div>\n",
              "<style scoped>\n",
              "    .dataframe tbody tr th:only-of-type {\n",
              "        vertical-align: middle;\n",
              "    }\n",
              "\n",
              "    .dataframe tbody tr th {\n",
              "        vertical-align: top;\n",
              "    }\n",
              "\n",
              "    .dataframe thead th {\n",
              "        text-align: right;\n",
              "    }\n",
              "</style>\n",
              "<table border=\"1\" class=\"dataframe\">\n",
              "  <thead>\n",
              "    <tr style=\"text-align: right;\">\n",
              "      <th></th>\n",
              "      <th>K-Values</th>\n",
              "      <th>TraningPercentage</th>\n",
              "      <th>Accuracy</th>\n",
              "      <th>Precison</th>\n",
              "      <th>Recall</th>\n",
              "      <th>F1Measure</th>\n",
              "      <th>Sensitivity</th>\n",
              "      <th>Specificity</th>\n",
              "      <th>FPR</th>\n",
              "      <th>FNR</th>\n",
              "      <th>NPV</th>\n",
              "      <th>FDR</th>\n",
              "      <th>MCC</th>\n",
              "    </tr>\n",
              "  </thead>\n",
              "  <tbody>\n",
              "    <tr>\n",
              "      <th>0</th>\n",
              "      <td>1</td>\n",
              "      <td>40</td>\n",
              "      <td>1.0</td>\n",
              "      <td>1.0</td>\n",
              "      <td>1.0</td>\n",
              "      <td>1.0</td>\n",
              "      <td>1.0</td>\n",
              "      <td>1.0</td>\n",
              "      <td>0.0</td>\n",
              "      <td>0.0</td>\n",
              "      <td>1.0</td>\n",
              "      <td>0.0</td>\n",
              "      <td>1599.0</td>\n",
              "    </tr>\n",
              "    <tr>\n",
              "      <th>1</th>\n",
              "      <td>1</td>\n",
              "      <td>30</td>\n",
              "      <td>1.0</td>\n",
              "      <td>1.0</td>\n",
              "      <td>1.0</td>\n",
              "      <td>1.0</td>\n",
              "      <td>1.0</td>\n",
              "      <td>1.0</td>\n",
              "      <td>0.0</td>\n",
              "      <td>0.0</td>\n",
              "      <td>1.0</td>\n",
              "      <td>0.0</td>\n",
              "      <td>899.0</td>\n",
              "    </tr>\n",
              "    <tr>\n",
              "      <th>2</th>\n",
              "      <td>1</td>\n",
              "      <td>20</td>\n",
              "      <td>1.0</td>\n",
              "      <td>1.0</td>\n",
              "      <td>1.0</td>\n",
              "      <td>1.0</td>\n",
              "      <td>1.0</td>\n",
              "      <td>1.0</td>\n",
              "      <td>0.0</td>\n",
              "      <td>0.0</td>\n",
              "      <td>1.0</td>\n",
              "      <td>0.0</td>\n",
              "      <td>396.0</td>\n",
              "    </tr>\n",
              "  </tbody>\n",
              "</table>\n",
              "</div>"
            ],
            "text/plain": [
              "  K-Values  TraningPercentage  Accuracy  Precison  ...  FNR  NPV  FDR     MCC\n",
              "0        1                 40       1.0       1.0  ...  0.0  1.0  0.0  1599.0\n",
              "1        1                 30       1.0       1.0  ...  0.0  1.0  0.0   899.0\n",
              "2        1                 20       1.0       1.0  ...  0.0  1.0  0.0   396.0\n",
              "\n",
              "[3 rows x 13 columns]"
            ]
          },
          "metadata": {
            "tags": []
          },
          "execution_count": 73
        }
      ]
    },
    {
      "cell_type": "code",
      "metadata": {
        "id": "7SUNkzEZwxOH"
      },
      "source": [
        "data2 = data2.transpose()"
      ],
      "execution_count": null,
      "outputs": []
    },
    {
      "cell_type": "code",
      "metadata": {
        "id": "Tt5BQ5--w0Ks"
      },
      "source": [
        "data2.to_csv(path_or_buf='KNNData.csv')"
      ],
      "execution_count": null,
      "outputs": []
    },
    {
      "cell_type": "code",
      "metadata": {
        "id": "WjrrH92iyZHx",
        "colab": {
          "base_uri": "https://localhost:8080/",
          "height": 296
        },
        "outputId": "1e0d1cda-c8c1-4f28-c537-88225d22d383"
      },
      "source": [
        "plot_roc_curve(KNN_classifier, X_test, y_test,name='KNN')"
      ],
      "execution_count": null,
      "outputs": [
        {
          "output_type": "execute_result",
          "data": {
            "text/plain": [
              "<sklearn.metrics._plot.roc_curve.RocCurveDisplay at 0x7ffb9c9da410>"
            ]
          },
          "metadata": {
            "tags": []
          },
          "execution_count": 77
        },
        {
          "output_type": "display_data",
          "data": {
            "image/png": "[encoded data removed]",
            "text/plain": [
              "<Figure size 432x288 with 1 Axes>"
            ]
          },
          "metadata": {
            "tags": [],
            "needs_background": "light"
          }
        }
      ]
    }
  ]
}